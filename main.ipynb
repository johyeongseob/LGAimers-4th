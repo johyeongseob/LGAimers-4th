{
 "cells": [
  {
   "cell_type": "markdown",
   "id": "017e9265",
   "metadata": {},
   "source": [
    "# 영업 성공 여부 분류 경진대회"
   ]
  },
  {
   "cell_type": "markdown",
   "id": "acdab431",
   "metadata": {},
   "source": [
    "## 1. 데이터 확인"
   ]
  },
  {
   "cell_type": "markdown",
   "id": "2b8341e8",
   "metadata": {},
   "source": [
    "### 필수 라이브러리"
   ]
  },
  {
   "cell_type": "code",
   "execution_count": 1,
   "id": "a315cc58",
   "metadata": {
    "scrolled": false
   },
   "outputs": [],
   "source": [
    "import pandas as pd\n",
    "import numpy as np\n",
    "import seaborn as sns\n",
    "import matplotlib.pyplot as plt\n",
    "from sklearn.metrics import (accuracy_score, confusion_matrix, f1_score, precision_score, recall_score, )\n",
    "from sklearn.model_selection import train_test_split\n",
    "from sklearn.tree import DecisionTreeClassifier\n",
    "from sklearn.ensemble import AdaBoostClassifier, GradientBoostingClassifier,RandomForestClassifier, VotingClassifier\n",
    "from xgboost import XGBClassifier\n",
    "import xgboost as xgb\n",
    "from sklearn.linear_model import LogisticRegression, SGDClassifier\n",
    "from sklearn.neighbors import KNeighborsClassifier\n",
    "import lightgbm as lgb\n",
    "from lightgbm import LGBMClassifier\n",
    "from sklearn.svm import SVC"
   ]
  },
  {
   "cell_type": "markdown",
   "id": "412f98cc",
   "metadata": {},
   "source": [
    "\n",
    "### 데이터 셋 읽어오기\n"
   ]
  },
  {
   "cell_type": "code",
   "execution_count": 2,
   "id": "7ada941e",
   "metadata": {},
   "outputs": [],
   "source": [
    "df_train = pd.read_csv(\"train.csv\") # 학습용 데이터\n",
    "df_test = pd.read_csv(\"submission.csv\") # 테스트 데이터(제출파일의 데이터)"
   ]
  },
  {
   "cell_type": "markdown",
   "id": "256328db",
   "metadata": {},
   "source": [
    "\n",
    "### 데이터 셋 확인하기\n"
   ]
  },
  {
   "cell_type": "code",
   "execution_count": 3,
   "id": "be9af12a",
   "metadata": {},
   "outputs": [
    {
     "data": {
      "text/plain": [
       "(59299, 29)"
      ]
     },
     "execution_count": 3,
     "metadata": {},
     "output_type": "execute_result"
    }
   ],
   "source": [
    "# 고객 수: 59299, 카테고리: 28 + 1(영업 성공 여부)\n",
    "df_train.shape"
   ]
  },
  {
   "cell_type": "code",
   "execution_count": 7,
   "id": "601e2a95",
   "metadata": {},
   "outputs": [
    {
     "name": "stdout",
     "output_type": "stream",
     "text": [
      "마지막 열의 값들의 합: 4850\n"
     ]
    }
   ],
   "source": [
    "sum_last_column = df_train.iloc[:, -1].sum()\n",
    "print(\"마지막 열의 값들의 합:\", sum_last_column)"
   ]
  },
  {
   "cell_type": "code",
   "execution_count": 6,
   "id": "ded4b314",
   "metadata": {
    "scrolled": false
   },
   "outputs": [
    {
     "data": {
      "text/plain": [
       "bant_submit                                               1.0\n",
       "customer_country                      /Belo horizonte /Brazil\n",
       "business_unit                                              AS\n",
       "com_reg_ver_win_rate                                 0.003937\n",
       "customer_idx                                            12478\n",
       "customer_type                                    End-Customer\n",
       "enterprise                                                SMB\n",
       "historical_existing_cnt                                   NaN\n",
       "id_strategic_ver                                          NaN\n",
       "it_strategic_ver                                          NaN\n",
       "idit_strategic_ver                                        NaN\n",
       "customer_job                                          finance\n",
       "lead_desc_length                                           18\n",
       "inquiry_type               Quotation or purchase consultation\n",
       "product_category                                  multi-split\n",
       "product_subcategory                                       NaN\n",
       "product_modelname                                         NaN\n",
       "customer_country.1                    /Belo horizonte /Brazil\n",
       "customer_position                                     manager\n",
       "response_corporate                                      LGESP\n",
       "expected_timeline                            more than a year\n",
       "ver_cus                                                     1\n",
       "ver_pro                                                     0\n",
       "ver_win_rate_x                                       0.003079\n",
       "ver_win_ratio_per_bu                                 0.026846\n",
       "business_area                              corporate / office\n",
       "business_subarea                                      Finance\n",
       "lead_owner                                                 38\n",
       "is_converted                                            False\n",
       "Name: 155, dtype: object"
      ]
     },
     "execution_count": 6,
     "metadata": {},
     "output_type": "execute_result"
    }
   ],
   "source": [
    "# 고객 예시\n",
    "df_train.iloc[155]"
   ]
  },
  {
   "cell_type": "code",
   "execution_count": 5,
   "id": "c5a392ee",
   "metadata": {
    "scrolled": false
   },
   "outputs": [],
   "source": [
    "# NaN을 앞/뒤 행값으로 대체\n",
    "\n",
    "df_train = df_train.fillna(0)\n",
    "# df_train = df_train.bfill()"
   ]
  },
  {
   "cell_type": "code",
   "execution_count": 6,
   "id": "4c987fbd",
   "metadata": {},
   "outputs": [],
   "source": [
    "# 범주형 데이터 삭제\n",
    "\n",
    "# object_columns = df_train.select_dtypes(include=['object'])\n",
    "# df_train = df_train.drop(columns=object_columns)"
   ]
  },
  {
   "cell_type": "markdown",
   "id": "b2a86e84",
   "metadata": {},
   "source": [
    "\n",
    "### 데이터 셋 분포\n"
   ]
  },
  {
   "cell_type": "markdown",
   "id": "af526c13",
   "metadata": {},
   "source": [
    "## 2. 데이터 전처리"
   ]
  },
  {
   "cell_type": "markdown",
   "id": "4bd47e00",
   "metadata": {},
   "source": [
    "### 레이블 인코딩"
   ]
  },
  {
   "cell_type": "code",
   "execution_count": 7,
   "id": "0b42b1a1",
   "metadata": {},
   "outputs": [],
   "source": [
    "def label_encoding(series: pd.Series) -> pd.Series:\n",
    "    \"\"\"범주형 데이터를 시리즈 형태로 받아 숫자형 데이터로 변환합니다.\"\"\"\n",
    "\n",
    "    my_dict = {}\n",
    "\n",
    "    # 모든 요소를 문자열로 변환\n",
    "    series = series.astype(str)\n",
    "\n",
    "    for idx, value in enumerate(sorted(series.unique())):\n",
    "        my_dict[value] = idx\n",
    "    series = series.map(my_dict)\n",
    "\n",
    "    return series"
   ]
  },
  {
   "cell_type": "code",
   "execution_count": 8,
   "id": "881a4612",
   "metadata": {},
   "outputs": [],
   "source": [
    "# 레이블 인코딩할 칼럼들\n",
    "label_columns = [\n",
    "    \"customer_country\",\n",
    "    \"business_unit\",\n",
    "    \"customer_country.1\",    \n",
    "    \"business_subarea\",\n",
    "    \"business_area\",\n",
    "    \"customer_type\",\n",
    "    \"enterprise\",\n",
    "    \"customer_job\",\n",
    "    \"inquiry_type\",\n",
    "    \"product_category\",\n",
    "    \"product_subcategory\",\n",
    "    \"product_modelname\",\n",
    "    \"customer_position\",\n",
    "    \"response_corporate\",\n",
    "    \"expected_timeline\",\n",
    "]\n",
    "\n",
    "df_all = pd.concat([df_train[label_columns], df_test[label_columns]])\n",
    "\n",
    "for col in label_columns:\n",
    "    df_all[col] = label_encoding(df_all[col])"
   ]
  },
  {
   "cell_type": "code",
   "execution_count": 9,
   "id": "6f503857",
   "metadata": {},
   "outputs": [],
   "source": [
    "for col in label_columns:  \n",
    "    df_train[col] = df_all.iloc[: len(df_train)][col]\n",
    "    df_test[col] = df_all.iloc[len(df_train) :][col]"
   ]
  },
  {
   "cell_type": "markdown",
   "id": "3a477f93",
   "metadata": {},
   "source": [
    "다시 학습 데이터와 제출 데이터를 분리합니다."
   ]
  },
  {
   "cell_type": "markdown",
   "id": "d332358a",
   "metadata": {},
   "source": [
    "### 2-2. 학습, 검증 데이터 분리"
   ]
  },
  {
   "cell_type": "code",
   "execution_count": 10,
   "id": "27c9e205",
   "metadata": {},
   "outputs": [],
   "source": [
    "# Train 데이터와 Validation 데이터 만들기\n",
    "\n",
    "x_train, x_val, y_train, y_val = train_test_split(\n",
    "    df_train.drop(\"is_converted\", axis=1),\n",
    "    df_train[\"is_converted\"],\n",
    "    test_size=0.2,\n",
    "    shuffle=True,\n",
    "    random_state=400,\n",
    ")"
   ]
  },
  {
   "cell_type": "code",
   "execution_count": 11,
   "id": "eaa0791d",
   "metadata": {},
   "outputs": [],
   "source": [
    "# label = df_train.pop(\"is_converted\")\n",
    "# train = df_train"
   ]
  },
  {
   "cell_type": "code",
   "execution_count": 12,
   "id": "caa4e5f4",
   "metadata": {},
   "outputs": [],
   "source": [
    "# import torch\n",
    "# import torch.nn as nn\n",
    "# import torch.optim as optim\n",
    "# import torch.nn.functional as F"
   ]
  },
  {
   "cell_type": "code",
   "execution_count": 13,
   "id": "4ad25c9f",
   "metadata": {},
   "outputs": [],
   "source": [
    "# # 정규화 및 데이터 타입 텐서로 변경\n",
    "\n",
    "# from sklearn.preprocessing import StandardScaler\n",
    "# sc = StandardScaler()\n",
    "\n",
    "# x_train = sc.fit_transform(x_train)\n",
    "# x_train = torch.tensor(x_train, dtype=torch.float32)\n",
    "\n",
    "# x_val = sc.fit_transform(x_val)\n",
    "# x_val = torch.tensor(x_val, dtype=torch.float32)\n",
    "\n",
    "# y_train = torch.tensor(y_train.values, dtype=torch.float32)\n",
    "# y_val = torch.tensor(y_val, dtype=torch.float32)\n",
    "\n",
    "# print(\"shape of x: {}\\nshape of y: {}\".format(x_train.shape,y_train.shape))"
   ]
  },
  {
   "cell_type": "code",
   "execution_count": null,
   "id": "6ea4e716",
   "metadata": {},
   "outputs": [],
   "source": []
  },
  {
   "cell_type": "markdown",
   "id": "79ecfa9b",
   "metadata": {},
   "source": [
    "## 3. 모델 학습"
   ]
  },
  {
   "cell_type": "markdown",
   "id": "3caf257b",
   "metadata": {},
   "source": [
    "### 모델 정의 "
   ]
  },
  {
   "cell_type": "code",
   "execution_count": 14,
   "id": "e4509af0",
   "metadata": {
    "scrolled": true
   },
   "outputs": [],
   "source": [
    "# # 기본 제공\n",
    "\n",
    "# model = DecisionTreeClassifier()\n",
    "\n",
    "# model.fit(x_train, y_train)\n",
    "\n"
   ]
  },
  {
   "cell_type": "code",
   "execution_count": 15,
   "id": "1137664a",
   "metadata": {},
   "outputs": [],
   "source": [
    "# model = SVC()\n",
    "\n",
    "# # Train the SVM classifier\n",
    "# model.fit(x_train, y_train)"
   ]
  },
  {
   "cell_type": "code",
   "execution_count": 16,
   "id": "e301e05b",
   "metadata": {},
   "outputs": [],
   "source": [
    "# model = AdaBoostClassifier()\n",
    "\n",
    "# model.fit(x_train, y_train)\n"
   ]
  },
  {
   "cell_type": "code",
   "execution_count": 17,
   "id": "034939c8",
   "metadata": {},
   "outputs": [],
   "source": [
    "# model = GradientBoostingClassifier(n_estimators=700, max_depth=5, random_state=0)\n",
    "# model.fit(x_train, y_train)"
   ]
  },
  {
   "cell_type": "code",
   "execution_count": 18,
   "id": "0917303e",
   "metadata": {},
   "outputs": [
    {
     "data": {
      "text/html": [
       "<style>#sk-container-id-1 {color: black;background-color: white;}#sk-container-id-1 pre{padding: 0;}#sk-container-id-1 div.sk-toggleable {background-color: white;}#sk-container-id-1 label.sk-toggleable__label {cursor: pointer;display: block;width: 100%;margin-bottom: 0;padding: 0.3em;box-sizing: border-box;text-align: center;}#sk-container-id-1 label.sk-toggleable__label-arrow:before {content: \"▸\";float: left;margin-right: 0.25em;color: #696969;}#sk-container-id-1 label.sk-toggleable__label-arrow:hover:before {color: black;}#sk-container-id-1 div.sk-estimator:hover label.sk-toggleable__label-arrow:before {color: black;}#sk-container-id-1 div.sk-toggleable__content {max-height: 0;max-width: 0;overflow: hidden;text-align: left;background-color: #f0f8ff;}#sk-container-id-1 div.sk-toggleable__content pre {margin: 0.2em;color: black;border-radius: 0.25em;background-color: #f0f8ff;}#sk-container-id-1 input.sk-toggleable__control:checked~div.sk-toggleable__content {max-height: 200px;max-width: 100%;overflow: auto;}#sk-container-id-1 input.sk-toggleable__control:checked~label.sk-toggleable__label-arrow:before {content: \"▾\";}#sk-container-id-1 div.sk-estimator input.sk-toggleable__control:checked~label.sk-toggleable__label {background-color: #d4ebff;}#sk-container-id-1 div.sk-label input.sk-toggleable__control:checked~label.sk-toggleable__label {background-color: #d4ebff;}#sk-container-id-1 input.sk-hidden--visually {border: 0;clip: rect(1px 1px 1px 1px);clip: rect(1px, 1px, 1px, 1px);height: 1px;margin: -1px;overflow: hidden;padding: 0;position: absolute;width: 1px;}#sk-container-id-1 div.sk-estimator {font-family: monospace;background-color: #f0f8ff;border: 1px dotted black;border-radius: 0.25em;box-sizing: border-box;margin-bottom: 0.5em;}#sk-container-id-1 div.sk-estimator:hover {background-color: #d4ebff;}#sk-container-id-1 div.sk-parallel-item::after {content: \"\";width: 100%;border-bottom: 1px solid gray;flex-grow: 1;}#sk-container-id-1 div.sk-label:hover label.sk-toggleable__label {background-color: #d4ebff;}#sk-container-id-1 div.sk-serial::before {content: \"\";position: absolute;border-left: 1px solid gray;box-sizing: border-box;top: 0;bottom: 0;left: 50%;z-index: 0;}#sk-container-id-1 div.sk-serial {display: flex;flex-direction: column;align-items: center;background-color: white;padding-right: 0.2em;padding-left: 0.2em;position: relative;}#sk-container-id-1 div.sk-item {position: relative;z-index: 1;}#sk-container-id-1 div.sk-parallel {display: flex;align-items: stretch;justify-content: center;background-color: white;position: relative;}#sk-container-id-1 div.sk-item::before, #sk-container-id-1 div.sk-parallel-item::before {content: \"\";position: absolute;border-left: 1px solid gray;box-sizing: border-box;top: 0;bottom: 0;left: 50%;z-index: -1;}#sk-container-id-1 div.sk-parallel-item {display: flex;flex-direction: column;z-index: 1;position: relative;background-color: white;}#sk-container-id-1 div.sk-parallel-item:first-child::after {align-self: flex-end;width: 50%;}#sk-container-id-1 div.sk-parallel-item:last-child::after {align-self: flex-start;width: 50%;}#sk-container-id-1 div.sk-parallel-item:only-child::after {width: 0;}#sk-container-id-1 div.sk-dashed-wrapped {border: 1px dashed gray;margin: 0 0.4em 0.5em 0.4em;box-sizing: border-box;padding-bottom: 0.4em;background-color: white;}#sk-container-id-1 div.sk-label label {font-family: monospace;font-weight: bold;display: inline-block;line-height: 1.2em;}#sk-container-id-1 div.sk-label-container {text-align: center;}#sk-container-id-1 div.sk-container {/* jupyter's `normalize.less` sets `[hidden] { display: none; }` but bootstrap.min.css set `[hidden] { display: none !important; }` so we also need the `!important` here to be able to override the default hidden behavior on the sphinx rendered scikit-learn.org. See: https://github.com/scikit-learn/scikit-learn/issues/21755 */display: inline-block !important;position: relative;}#sk-container-id-1 div.sk-text-repr-fallback {display: none;}</style><div id=\"sk-container-id-1\" class=\"sk-top-container\"><div class=\"sk-text-repr-fallback\"><pre>GradientBoostingClassifier(max_depth=1, n_estimators=1000, random_state=0)</pre><b>In a Jupyter environment, please rerun this cell to show the HTML representation or trust the notebook. <br />On GitHub, the HTML representation is unable to render, please try loading this page with nbviewer.org.</b></div><div class=\"sk-container\" hidden><div class=\"sk-item\"><div class=\"sk-estimator sk-toggleable\"><input class=\"sk-toggleable__control sk-hidden--visually\" id=\"sk-estimator-id-1\" type=\"checkbox\" checked><label for=\"sk-estimator-id-1\" class=\"sk-toggleable__label sk-toggleable__label-arrow\">GradientBoostingClassifier</label><div class=\"sk-toggleable__content\"><pre>GradientBoostingClassifier(max_depth=1, n_estimators=1000, random_state=0)</pre></div></div></div></div></div>"
      ],
      "text/plain": [
       "GradientBoostingClassifier(max_depth=1, n_estimators=1000, random_state=0)"
      ]
     },
     "execution_count": 18,
     "metadata": {},
     "output_type": "execute_result"
    }
   ],
   "source": [
    "# model = GradientBoostingClassifier(n_estimators=1000, max_depth=1, random_state=0)\n",
    "# model.fit(train, label)"
   ]
  },
  {
   "cell_type": "code",
   "execution_count": 19,
   "id": "78be8512",
   "metadata": {},
   "outputs": [],
   "source": [
    "# model = xgb.XGBClassifier(n_estimators=500, max_depth=10)\n",
    "\n",
    "# model.fit(x_train, y_train)"
   ]
  },
  {
   "cell_type": "code",
   "execution_count": 20,
   "id": "e821e2c6",
   "metadata": {},
   "outputs": [],
   "source": [
    "# model = SGDClassifier()\n",
    "\n",
    "# model.fit(x_train, y_train)"
   ]
  },
  {
   "cell_type": "code",
   "execution_count": 21,
   "id": "65b718e1",
   "metadata": {},
   "outputs": [],
   "source": [
    "# model = LGBMClassifier(n_estimators=500)\n",
    "# evals = [(x_val, y_val)]\n",
    "# model.fit(x_train, y_train, eval_metric='logloss', eval_set=evals)"
   ]
  },
  {
   "cell_type": "code",
   "execution_count": 22,
   "id": "017d8053",
   "metadata": {},
   "outputs": [],
   "source": [
    "# model = RandomForestClassifier()\n",
    "\n",
    "# model.fit(x_train, y_train)"
   ]
  },
  {
   "cell_type": "code",
   "execution_count": 23,
   "id": "6b6a4ccf",
   "metadata": {},
   "outputs": [],
   "source": [
    "# lr = LogisticRegression(max_iter=2000)  # max_iter를 적절한 값으로 설정\n",
    "# knn = KNeighborsClassifier(8)\n",
    "\n",
    "# # 보팅 분류기 생성\n",
    "# model = VotingClassifier(estimators=[('LR', lr), ('KNN', knn)], voting='soft')\n",
    "\n",
    "# # 데이터에 모델 학습\n",
    "# model.fit(x_train, y_train)"
   ]
  },
  {
   "cell_type": "code",
   "execution_count": null,
   "id": "4b7d55af",
   "metadata": {},
   "outputs": [],
   "source": []
  },
  {
   "cell_type": "code",
   "execution_count": 24,
   "id": "fd5a8eb0",
   "metadata": {},
   "outputs": [],
   "source": [
    "# # 기본적인 MLP\n",
    "\n",
    "# from torch import nn\n",
    "# from torch.nn import functional as F\n",
    "\n",
    "# class Net(nn.Module):\n",
    "#   def __init__(self,input_shape):\n",
    "#     super(Net,self).__init__()\n",
    "#     self.fc1 = nn.Linear(input_shape,32)\n",
    "#     self.fc2 = nn.Linear(32,64)\n",
    "#     self.fc5 = nn.Linear(64,16)\n",
    "#     self.fc6 = nn.Linear(16,4)\n",
    "#     self.fc7 = nn.Linear(4,1)\n",
    "    \n",
    "#   def forward(self,x):\n",
    "#     x = torch.relu(self.fc1(x))\n",
    "#     x = torch.relu(self.fc2(x))\n",
    "#     x = torch.relu(self.fc5(x))\n",
    "#     x = torch.relu(self.fc6(x))\n",
    "#     x = torch.sigmoid(self.fc7(x))\n",
    "#     return x"
   ]
  },
  {
   "cell_type": "code",
   "execution_count": 25,
   "id": "175b80e0",
   "metadata": {},
   "outputs": [],
   "source": [
    "# #hyper parameters\n",
    "\n",
    "# learning_rate = 0.01\n",
    "# epochs = 1001\n",
    "\n",
    "# # Model , Optimizer, Loss\n",
    "\n",
    "# model = Net(input_shape=x_train.shape[1])\n",
    "# # optimizer = torch.optim.RMSprop(model.parameters(), lr=learning_rate)\n",
    "# optimizer = torch.optim.Adam(model.parameters(), lr=learning_rate)\n",
    "# loss_fn = nn.BCELoss()"
   ]
  },
  {
   "cell_type": "code",
   "execution_count": 26,
   "id": "284f7b94",
   "metadata": {},
   "outputs": [],
   "source": [
    "# #forward loop\n",
    "# losses = []\n",
    "\n",
    "# for i in range(epochs):\n",
    "        \n",
    "#     #calculate output\n",
    "#     output = model(x_train)\n",
    " \n",
    "#     #calculate loss\n",
    "#     loss = loss_fn(output,y_train.reshape(-1,1))\n",
    " \n",
    "#     #accuracy\n",
    "#     predicted = model(x_train)\n",
    "    \n",
    "#     #backprop\n",
    "#     optimizer.zero_grad()\n",
    "#     loss.backward()\n",
    "#     optimizer.step()\n",
    "    \n",
    "#     if i%100 == 0:\n",
    "#         losses.append(loss)\n",
    "#         print(\"epoch {}\\tloss : {}\\t\".format(i,loss))"
   ]
  },
  {
   "cell_type": "code",
   "execution_count": null,
   "id": "7c112389",
   "metadata": {},
   "outputs": [],
   "source": []
  },
  {
   "cell_type": "markdown",
   "id": "cacd5ed8",
   "metadata": {},
   "source": [
    "### 모델 학습"
   ]
  },
  {
   "cell_type": "markdown",
   "id": "6bf2de5f",
   "metadata": {},
   "source": [
    "### 모델 성능 보기"
   ]
  },
  {
   "cell_type": "code",
   "execution_count": 27,
   "id": "c8871444",
   "metadata": {},
   "outputs": [],
   "source": [
    "# def get_clf_eval(y_test, y_pred):\n",
    "#     confusion = confusion_matrix(y_test, y_pred, labels=[1, 0])\n",
    "#     accuracy = accuracy_score(y_test, y_pred)\n",
    "#     precision = precision_score(y_test, y_pred, labels=[1, 0])\n",
    "#     recall = recall_score(y_test, y_pred)\n",
    "#     F1 = f1_score(y_test, y_pred, labels=[1, 0])\n",
    "\n",
    "#     print(\"오차행렬:\\n\", confusion)\n",
    "#     print(\"\\n정확도: {:.4f}\".format(accuracy))\n",
    "#     print(\"정밀도: {:.4f}\".format(precision))\n",
    "#     print(\"재현율: {:.4f}\".format(recall))\n",
    "#     print(\"F1: {:.4f}\".format(F1))"
   ]
  },
  {
   "cell_type": "code",
   "execution_count": 28,
   "id": "145e4613",
   "metadata": {},
   "outputs": [],
   "source": [
    "# pred_prob = model.predict(x_val)\n",
    "# # preds = [1 if i > 0.5 else 0 for i in pred_prob]\n",
    "\n",
    "# get_clf_eval(y_val, pred_prob)"
   ]
  },
  {
   "cell_type": "code",
   "execution_count": 29,
   "id": "56a86373",
   "metadata": {},
   "outputs": [],
   "source": [
    "# # model.eval()\n",
    "\n",
    "# # with torch.no_grad():\n",
    "# #     pred = model(x_val)\n",
    "\n",
    "# # pred_labels = ((pred >= 0.5).float()).bool()\n",
    "\n",
    "# # get_clf_eval(y_val, pred_labels)\n",
    "\n",
    "# #########################################################\n",
    "\n",
    "# pred_labels = model.predict(x_val)\n",
    "\n",
    "# get_clf_eval(y_val, pred_labels)"
   ]
  },
  {
   "cell_type": "markdown",
   "id": "7adf8300",
   "metadata": {},
   "source": [
    "## 4. 제출하기"
   ]
  },
  {
   "cell_type": "markdown",
   "id": "9d0b6e17",
   "metadata": {},
   "source": [
    "### 테스트 데이터 예측"
   ]
  },
  {
   "cell_type": "code",
   "execution_count": 30,
   "id": "43daa73c",
   "metadata": {},
   "outputs": [],
   "source": [
    "# 예측에 필요한 데이터 분리\n",
    "x_test = df_test.drop([\"is_converted\", \"id\"], axis=1)"
   ]
  },
  {
   "cell_type": "code",
   "execution_count": 31,
   "id": "dc0da139",
   "metadata": {},
   "outputs": [],
   "source": [
    "x_test = x_test.fillna(0)\n",
    "# x_test = torch.tensor(x_test.values, dtype=torch.float32)"
   ]
  },
  {
   "cell_type": "code",
   "execution_count": 32,
   "id": "ea956a72",
   "metadata": {},
   "outputs": [],
   "source": [
    "# columns = x_test.select_dtypes(include=['object'])\n",
    "# x_test = x_test.drop(columns=columns)"
   ]
  },
  {
   "cell_type": "code",
   "execution_count": 33,
   "id": "d13f7a6e",
   "metadata": {},
   "outputs": [
    {
     "data": {
      "text/plain": [
       "41"
      ]
     },
     "execution_count": 33,
     "metadata": {},
     "output_type": "execute_result"
    }
   ],
   "source": [
    "pred_label = model.predict(x_test)\n",
    "# pred_label = [1 if i > 0.5 else 0 for i in pred_label]\n",
    "\n",
    "sum(pred_label) # True로 예측된 개수"
   ]
  },
  {
   "cell_type": "code",
   "execution_count": 34,
   "id": "448e64ab",
   "metadata": {},
   "outputs": [],
   "source": [
    "# model.eval()\n",
    "\n",
    "# with torch.no_grad():\n",
    "#     prediction = model(x_test)\n",
    "\n",
    "# pred_label = ((prediction >= 0.5).float()).bool()"
   ]
  },
  {
   "cell_type": "markdown",
   "id": "47f18e6a",
   "metadata": {},
   "source": [
    "### 제출 파일 작성"
   ]
  },
  {
   "cell_type": "code",
   "execution_count": 35,
   "id": "3128a458",
   "metadata": {},
   "outputs": [
    {
     "name": "stdout",
     "output_type": "stream",
     "text": [
      "[False False False ... False False False]\n"
     ]
    }
   ],
   "source": [
    "# 제출 데이터 읽어오기 (df_test는 전처리된 데이터가 저장됨)\n",
    "df_sub = pd.read_csv(\"submission.csv\")\n",
    "df_sub[\"is_converted\"] = pred_label\n",
    "print(pred_label)\n",
    "\n",
    "# 제출 파일 저장\n",
    "df_sub.to_csv(\"submission.csv\", index=False)"
   ]
  },
  {
   "cell_type": "markdown",
   "id": "ec7867ce",
   "metadata": {},
   "source": [
    "**우측 상단의 제출 버튼을 클릭해 결과를 확인하세요**"
   ]
  },
  {
   "cell_type": "code",
   "execution_count": null,
   "id": "3453c929",
   "metadata": {},
   "outputs": [],
   "source": []
  },
  {
   "cell_type": "code",
   "execution_count": null,
   "id": "84e6a612",
   "metadata": {},
   "outputs": [],
   "source": []
  }
 ],
 "metadata": {
  "kernelspec": {
   "display_name": "Python 3 (ipykernel)",
   "language": "python",
   "name": "python3"
  },
  "language_info": {
   "codemirror_mode": {
    "name": "ipython",
    "version": 3
   },
   "file_extension": ".py",
   "mimetype": "text/x-python",
   "name": "python",
   "nbconvert_exporter": "python",
   "pygments_lexer": "ipython3",
   "version": "3.10.13"
  }
 },
 "nbformat": 4,
 "nbformat_minor": 5
}
